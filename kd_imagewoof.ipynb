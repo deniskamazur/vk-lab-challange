{
  "nbformat": 4,
  "nbformat_minor": 0,
  "metadata": {
    "colab": {
      "name": "kd_imagewoof.ipynb",
      "provenance": []
    },
    "kernelspec": {
      "name": "python3",
      "display_name": "Python 3"
    },
    "accelerator": "GPU",
    "widgets": {
      "application/vnd.jupyter.widget-state+json": {
        "78fcaf61f90d4e9a99af3aca5f48cdc0": {
          "model_module": "@jupyter-widgets/controls",
          "model_name": "HBoxModel",
          "state": {
            "_view_name": "HBoxView",
            "_dom_classes": [],
            "_model_name": "HBoxModel",
            "_view_module": "@jupyter-widgets/controls",
            "_model_module_version": "1.5.0",
            "_view_count": null,
            "_view_module_version": "1.5.0",
            "box_style": "",
            "layout": "IPY_MODEL_681802eed0c540c89043e536590459a8",
            "_model_module": "@jupyter-widgets/controls",
            "children": [
              "IPY_MODEL_2ca361395531475c8e5f2314bf66cd3d",
              "IPY_MODEL_81fb33e1e1204f529463ea50508b27da"
            ]
          }
        },
        "681802eed0c540c89043e536590459a8": {
          "model_module": "@jupyter-widgets/base",
          "model_name": "LayoutModel",
          "state": {
            "_view_name": "LayoutView",
            "grid_template_rows": null,
            "right": null,
            "justify_content": null,
            "_view_module": "@jupyter-widgets/base",
            "overflow": null,
            "_model_module_version": "1.2.0",
            "_view_count": null,
            "flex_flow": null,
            "width": null,
            "min_width": null,
            "border": null,
            "align_items": null,
            "bottom": null,
            "_model_module": "@jupyter-widgets/base",
            "top": null,
            "grid_column": null,
            "overflow_y": null,
            "overflow_x": null,
            "grid_auto_flow": null,
            "grid_area": null,
            "grid_template_columns": null,
            "flex": null,
            "_model_name": "LayoutModel",
            "justify_items": null,
            "grid_row": null,
            "max_height": null,
            "align_content": null,
            "visibility": null,
            "align_self": null,
            "height": null,
            "min_height": null,
            "padding": null,
            "grid_auto_rows": null,
            "grid_gap": null,
            "max_width": null,
            "order": null,
            "_view_module_version": "1.2.0",
            "grid_template_areas": null,
            "object_position": null,
            "object_fit": null,
            "grid_auto_columns": null,
            "margin": null,
            "display": null,
            "left": null
          }
        },
        "2ca361395531475c8e5f2314bf66cd3d": {
          "model_module": "@jupyter-widgets/controls",
          "model_name": "FloatProgressModel",
          "state": {
            "_view_name": "ProgressView",
            "style": "IPY_MODEL_9bd6ddad46d84d6f9705e13f3edb8b26",
            "_dom_classes": [],
            "description": "100%",
            "_model_name": "FloatProgressModel",
            "bar_style": "success",
            "max": 2257,
            "_view_module": "@jupyter-widgets/controls",
            "_model_module_version": "1.5.0",
            "value": 2257,
            "_view_count": null,
            "_view_module_version": "1.5.0",
            "orientation": "horizontal",
            "min": 0,
            "description_tooltip": null,
            "_model_module": "@jupyter-widgets/controls",
            "layout": "IPY_MODEL_7e9b05710b7746fc8a5de1f936318b26"
          }
        },
        "81fb33e1e1204f529463ea50508b27da": {
          "model_module": "@jupyter-widgets/controls",
          "model_name": "HTMLModel",
          "state": {
            "_view_name": "HTMLView",
            "style": "IPY_MODEL_2cd0796c0a6a4adb80f95f9c14dd304c",
            "_dom_classes": [],
            "description": "",
            "_model_name": "HTMLModel",
            "placeholder": "​",
            "_view_module": "@jupyter-widgets/controls",
            "_model_module_version": "1.5.0",
            "value": " 2257/2257 [03:47&lt;00:00,  9.92it/s]",
            "_view_count": null,
            "_view_module_version": "1.5.0",
            "description_tooltip": null,
            "_model_module": "@jupyter-widgets/controls",
            "layout": "IPY_MODEL_ba1f54ce3c304f629812e15ba70d6120"
          }
        },
        "9bd6ddad46d84d6f9705e13f3edb8b26": {
          "model_module": "@jupyter-widgets/controls",
          "model_name": "ProgressStyleModel",
          "state": {
            "_view_name": "StyleView",
            "_model_name": "ProgressStyleModel",
            "description_width": "initial",
            "_view_module": "@jupyter-widgets/base",
            "_model_module_version": "1.5.0",
            "_view_count": null,
            "_view_module_version": "1.2.0",
            "bar_color": null,
            "_model_module": "@jupyter-widgets/controls"
          }
        },
        "7e9b05710b7746fc8a5de1f936318b26": {
          "model_module": "@jupyter-widgets/base",
          "model_name": "LayoutModel",
          "state": {
            "_view_name": "LayoutView",
            "grid_template_rows": null,
            "right": null,
            "justify_content": null,
            "_view_module": "@jupyter-widgets/base",
            "overflow": null,
            "_model_module_version": "1.2.0",
            "_view_count": null,
            "flex_flow": null,
            "width": null,
            "min_width": null,
            "border": null,
            "align_items": null,
            "bottom": null,
            "_model_module": "@jupyter-widgets/base",
            "top": null,
            "grid_column": null,
            "overflow_y": null,
            "overflow_x": null,
            "grid_auto_flow": null,
            "grid_area": null,
            "grid_template_columns": null,
            "flex": null,
            "_model_name": "LayoutModel",
            "justify_items": null,
            "grid_row": null,
            "max_height": null,
            "align_content": null,
            "visibility": null,
            "align_self": null,
            "height": null,
            "min_height": null,
            "padding": null,
            "grid_auto_rows": null,
            "grid_gap": null,
            "max_width": null,
            "order": null,
            "_view_module_version": "1.2.0",
            "grid_template_areas": null,
            "object_position": null,
            "object_fit": null,
            "grid_auto_columns": null,
            "margin": null,
            "display": null,
            "left": null
          }
        },
        "2cd0796c0a6a4adb80f95f9c14dd304c": {
          "model_module": "@jupyter-widgets/controls",
          "model_name": "DescriptionStyleModel",
          "state": {
            "_view_name": "StyleView",
            "_model_name": "DescriptionStyleModel",
            "description_width": "",
            "_view_module": "@jupyter-widgets/base",
            "_model_module_version": "1.5.0",
            "_view_count": null,
            "_view_module_version": "1.2.0",
            "_model_module": "@jupyter-widgets/controls"
          }
        },
        "ba1f54ce3c304f629812e15ba70d6120": {
          "model_module": "@jupyter-widgets/base",
          "model_name": "LayoutModel",
          "state": {
            "_view_name": "LayoutView",
            "grid_template_rows": null,
            "right": null,
            "justify_content": null,
            "_view_module": "@jupyter-widgets/base",
            "overflow": null,
            "_model_module_version": "1.2.0",
            "_view_count": null,
            "flex_flow": null,
            "width": null,
            "min_width": null,
            "border": null,
            "align_items": null,
            "bottom": null,
            "_model_module": "@jupyter-widgets/base",
            "top": null,
            "grid_column": null,
            "overflow_y": null,
            "overflow_x": null,
            "grid_auto_flow": null,
            "grid_area": null,
            "grid_template_columns": null,
            "flex": null,
            "_model_name": "LayoutModel",
            "justify_items": null,
            "grid_row": null,
            "max_height": null,
            "align_content": null,
            "visibility": null,
            "align_self": null,
            "height": null,
            "min_height": null,
            "padding": null,
            "grid_auto_rows": null,
            "grid_gap": null,
            "max_width": null,
            "order": null,
            "_view_module_version": "1.2.0",
            "grid_template_areas": null,
            "object_position": null,
            "object_fit": null,
            "grid_auto_columns": null,
            "margin": null,
            "display": null,
            "left": null
          }
        },
        "0b8fbc7132ff4c4ca4c4f0afcb8fd64b": {
          "model_module": "@jupyter-widgets/controls",
          "model_name": "HBoxModel",
          "state": {
            "_view_name": "HBoxView",
            "_dom_classes": [],
            "_model_name": "HBoxModel",
            "_view_module": "@jupyter-widgets/controls",
            "_model_module_version": "1.5.0",
            "_view_count": null,
            "_view_module_version": "1.5.0",
            "box_style": "",
            "layout": "IPY_MODEL_118fd4d5cbd14240b4a70106228810c3",
            "_model_module": "@jupyter-widgets/controls",
            "children": [
              "IPY_MODEL_475e2f14e7204c1f9d1b63c2661e68df",
              "IPY_MODEL_0677e28e2ecd459c83107324bd133599"
            ]
          }
        },
        "118fd4d5cbd14240b4a70106228810c3": {
          "model_module": "@jupyter-widgets/base",
          "model_name": "LayoutModel",
          "state": {
            "_view_name": "LayoutView",
            "grid_template_rows": null,
            "right": null,
            "justify_content": null,
            "_view_module": "@jupyter-widgets/base",
            "overflow": null,
            "_model_module_version": "1.2.0",
            "_view_count": null,
            "flex_flow": null,
            "width": null,
            "min_width": null,
            "border": null,
            "align_items": null,
            "bottom": null,
            "_model_module": "@jupyter-widgets/base",
            "top": null,
            "grid_column": null,
            "overflow_y": null,
            "overflow_x": null,
            "grid_auto_flow": null,
            "grid_area": null,
            "grid_template_columns": null,
            "flex": null,
            "_model_name": "LayoutModel",
            "justify_items": null,
            "grid_row": null,
            "max_height": null,
            "align_content": null,
            "visibility": null,
            "align_self": null,
            "height": null,
            "min_height": null,
            "padding": null,
            "grid_auto_rows": null,
            "grid_gap": null,
            "max_width": null,
            "order": null,
            "_view_module_version": "1.2.0",
            "grid_template_areas": null,
            "object_position": null,
            "object_fit": null,
            "grid_auto_columns": null,
            "margin": null,
            "display": null,
            "left": null
          }
        },
        "475e2f14e7204c1f9d1b63c2661e68df": {
          "model_module": "@jupyter-widgets/controls",
          "model_name": "FloatProgressModel",
          "state": {
            "_view_name": "ProgressView",
            "style": "IPY_MODEL_80b4f48f13754f3d8923b896eeb96289",
            "_dom_classes": [],
            "description": " 59%",
            "_model_name": "FloatProgressModel",
            "bar_style": "",
            "max": 2257,
            "_view_module": "@jupyter-widgets/controls",
            "_model_module_version": "1.5.0",
            "value": 1326,
            "_view_count": null,
            "_view_module_version": "1.5.0",
            "orientation": "horizontal",
            "min": 0,
            "description_tooltip": null,
            "_model_module": "@jupyter-widgets/controls",
            "layout": "IPY_MODEL_839d2713a7624fd79bc5fdd643913669"
          }
        },
        "0677e28e2ecd459c83107324bd133599": {
          "model_module": "@jupyter-widgets/controls",
          "model_name": "HTMLModel",
          "state": {
            "_view_name": "HTMLView",
            "style": "IPY_MODEL_a51a92874d3c4227b06972d71aaffea4",
            "_dom_classes": [],
            "description": "",
            "_model_name": "HTMLModel",
            "placeholder": "​",
            "_view_module": "@jupyter-widgets/controls",
            "_model_module_version": "1.5.0",
            "value": " 1326/2257 [02:12&lt;01:32, 10.05it/s]",
            "_view_count": null,
            "_view_module_version": "1.5.0",
            "description_tooltip": null,
            "_model_module": "@jupyter-widgets/controls",
            "layout": "IPY_MODEL_864c2f436447415485e445e625325e95"
          }
        },
        "80b4f48f13754f3d8923b896eeb96289": {
          "model_module": "@jupyter-widgets/controls",
          "model_name": "ProgressStyleModel",
          "state": {
            "_view_name": "StyleView",
            "_model_name": "ProgressStyleModel",
            "description_width": "initial",
            "_view_module": "@jupyter-widgets/base",
            "_model_module_version": "1.5.0",
            "_view_count": null,
            "_view_module_version": "1.2.0",
            "bar_color": null,
            "_model_module": "@jupyter-widgets/controls"
          }
        },
        "839d2713a7624fd79bc5fdd643913669": {
          "model_module": "@jupyter-widgets/base",
          "model_name": "LayoutModel",
          "state": {
            "_view_name": "LayoutView",
            "grid_template_rows": null,
            "right": null,
            "justify_content": null,
            "_view_module": "@jupyter-widgets/base",
            "overflow": null,
            "_model_module_version": "1.2.0",
            "_view_count": null,
            "flex_flow": null,
            "width": null,
            "min_width": null,
            "border": null,
            "align_items": null,
            "bottom": null,
            "_model_module": "@jupyter-widgets/base",
            "top": null,
            "grid_column": null,
            "overflow_y": null,
            "overflow_x": null,
            "grid_auto_flow": null,
            "grid_area": null,
            "grid_template_columns": null,
            "flex": null,
            "_model_name": "LayoutModel",
            "justify_items": null,
            "grid_row": null,
            "max_height": null,
            "align_content": null,
            "visibility": null,
            "align_self": null,
            "height": null,
            "min_height": null,
            "padding": null,
            "grid_auto_rows": null,
            "grid_gap": null,
            "max_width": null,
            "order": null,
            "_view_module_version": "1.2.0",
            "grid_template_areas": null,
            "object_position": null,
            "object_fit": null,
            "grid_auto_columns": null,
            "margin": null,
            "display": null,
            "left": null
          }
        },
        "a51a92874d3c4227b06972d71aaffea4": {
          "model_module": "@jupyter-widgets/controls",
          "model_name": "DescriptionStyleModel",
          "state": {
            "_view_name": "StyleView",
            "_model_name": "DescriptionStyleModel",
            "description_width": "",
            "_view_module": "@jupyter-widgets/base",
            "_model_module_version": "1.5.0",
            "_view_count": null,
            "_view_module_version": "1.2.0",
            "_model_module": "@jupyter-widgets/controls"
          }
        },
        "864c2f436447415485e445e625325e95": {
          "model_module": "@jupyter-widgets/base",
          "model_name": "LayoutModel",
          "state": {
            "_view_name": "LayoutView",
            "grid_template_rows": null,
            "right": null,
            "justify_content": null,
            "_view_module": "@jupyter-widgets/base",
            "overflow": null,
            "_model_module_version": "1.2.0",
            "_view_count": null,
            "flex_flow": null,
            "width": null,
            "min_width": null,
            "border": null,
            "align_items": null,
            "bottom": null,
            "_model_module": "@jupyter-widgets/base",
            "top": null,
            "grid_column": null,
            "overflow_y": null,
            "overflow_x": null,
            "grid_auto_flow": null,
            "grid_area": null,
            "grid_template_columns": null,
            "flex": null,
            "_model_name": "LayoutModel",
            "justify_items": null,
            "grid_row": null,
            "max_height": null,
            "align_content": null,
            "visibility": null,
            "align_self": null,
            "height": null,
            "min_height": null,
            "padding": null,
            "grid_auto_rows": null,
            "grid_gap": null,
            "max_width": null,
            "order": null,
            "_view_module_version": "1.2.0",
            "grid_template_areas": null,
            "object_position": null,
            "object_fit": null,
            "grid_auto_columns": null,
            "margin": null,
            "display": null,
            "left": null
          }
        }
      }
    }
  },
  "cells": [
    {
      "cell_type": "markdown",
      "metadata": {
        "id": "4XMZ6M32ZhUk"
      },
      "source": [
        "# Knowledge Distallation\n",
        "\n",
        "В этой тетрадке мы обучим большой Resnet \n",
        "[отличать породы собак](https://github.com/fastai/imagenette#imagewoof) \n",
        "друг от друга, а потом дистиллируем её знания в resnet меньшего размера."
      ]
    },
    {
      "cell_type": "code",
      "metadata": {
        "id": "2H6Aa8meaJGq"
      },
      "source": [
        "from IPython.display import clear_output\n",
        "\n",
        "!wget https://s3.amazonaws.com/fast-ai-imageclas/imagewoof2-320.tgz\n",
        "!tar -xf imagewoof2-320.tgz\n",
        "\n",
        "clear_output()"
      ],
      "execution_count": 1,
      "outputs": []
    },
    {
      "cell_type": "code",
      "metadata": {
        "id": "Y2a3lLWRaf9_",
        "outputId": "23a55853-67de-4231-a6ea-bd67e31adc05",
        "colab": {
          "base_uri": "https://localhost:8080/",
          "height": 34
        }
      },
      "source": [
        "import os\n",
        "\n",
        "import torch\n",
        "\n",
        "from torchvision import datasets, models, transforms\n",
        "from torch.utils import data\n",
        "\n",
        "\n",
        "# code taken from https://pytorch.org/tutorials/beginner/transfer_learning_tutorial.html\n",
        "data_transforms = {\n",
        "    \"train\": transforms.Compose([\n",
        "        transforms.RandomResizedCrop(224),\n",
        "        transforms.RandomHorizontalFlip(),\n",
        "        transforms.ToTensor(),\n",
        "        transforms.Normalize([0.485, 0.456, 0.406], [0.229, 0.224, 0.225])\n",
        "    ]),\n",
        "    \"val\": transforms.Compose([\n",
        "        transforms.Resize(256),\n",
        "        transforms.CenterCrop(224),\n",
        "        transforms.ToTensor(),\n",
        "        transforms.Normalize([0.485, 0.456, 0.406], [0.229, 0.224, 0.225])\n",
        "    ]),\n",
        "}\n",
        "\n",
        "data_dir = \"imagewoof2-320/\"\n",
        "image_datasets = {x: datasets.ImageFolder(os.path.join(data_dir, x),\n",
        "                                          data_transforms[x])\n",
        "                  for x in [\"train\", \"val\"]}\n",
        "dataloaders = {x: torch.utils.data.DataLoader(image_datasets[x], batch_size=4,\n",
        "                                             shuffle=True, num_workers=4)\n",
        "              for x in [\"train\", \"val\"]}\n",
        "dataset_sizes = {x: len(image_datasets[x]) for x in [\"train\", \"val\"]}\n",
        "\n",
        "device = torch.device(\"cuda:0\" if torch.cuda.is_available() else \"cpu\")\n",
        "print(\"running on: {}\".format(device))"
      ],
      "execution_count": 2,
      "outputs": [
        {
          "output_type": "stream",
          "text": [
            "running on: cuda:0\n"
          ],
          "name": "stdout"
        }
      ]
    },
    {
      "cell_type": "markdown",
      "metadata": {
        "id": "NPzLsf_haerS"
      },
      "source": [
        "Я выбрал в качестве задачу классификацию изображений resnet'ом, потому\n",
        "что похожие задачи могут встретиться in the wild. \"Обучим большую \n",
        "умную модель решать задачу хорошо, а потом скомпрессим её до\n",
        "меньше модели, чтобы гонять на мобильных устройствах."
      ]
    },
    {
      "cell_type": "code",
      "metadata": {
        "id": "y6rtzDIza-mE",
        "outputId": "8ea79561-8e6a-45b7-cc54-380236fba753",
        "colab": {
          "base_uri": "https://localhost:8080/",
          "height": 83,
          "referenced_widgets": [
            "78fcaf61f90d4e9a99af3aca5f48cdc0",
            "681802eed0c540c89043e536590459a8",
            "2ca361395531475c8e5f2314bf66cd3d",
            "81fb33e1e1204f529463ea50508b27da",
            "9bd6ddad46d84d6f9705e13f3edb8b26",
            "7e9b05710b7746fc8a5de1f936318b26",
            "2cd0796c0a6a4adb80f95f9c14dd304c",
            "ba1f54ce3c304f629812e15ba70d6120",
            "0b8fbc7132ff4c4ca4c4f0afcb8fd64b",
            "118fd4d5cbd14240b4a70106228810c3",
            "475e2f14e7204c1f9d1b63c2661e68df",
            "0677e28e2ecd459c83107324bd133599",
            "80b4f48f13754f3d8923b896eeb96289",
            "839d2713a7624fd79bc5fdd643913669",
            "a51a92874d3c4227b06972d71aaffea4",
            "864c2f436447415485e445e625325e95"
          ]
        }
      },
      "source": [
        "from torch import nn, optim\n",
        "import torch.nn.functional as F\n",
        "\n",
        "from tqdm.notebook import tqdm_notebook\n",
        "\n",
        "\n",
        "# at first we'll transfer teach a 101-block resnet nn\n",
        "teacher = models.resnet101(pretrained=True)\n",
        "teacher.fc = nn.Linear(teacher.fc.in_features, 10)\n",
        "teacher = teacher.to(device)\n",
        "\n",
        "NUM_EPOCHS = 5\n",
        "best_teacher_acc = 0.0\n",
        "\n",
        "teacher_optimizer = optim.SGD(teacher.parameters(), lr=0.001, momentum=0.9)\n",
        "t_lr_scheduler = optim.lr_scheduler.StepLR(teacher_optimizer, step_size=7, gamma=0.1)\n",
        "\n",
        "for epoch in range(NUM_EPOCHS):\n",
        "    running_loss = 0.0\n",
        "    running_corrects = 0\n",
        "\n",
        "    for inputs, labels in tqdm_notebook(dataloaders[\"train\"]):\n",
        "        inputs = inputs.to(device)\n",
        "        labels = labels.to(device)\n",
        "\n",
        "        teacher_optimizer.zero_grad()\n",
        "\n",
        "        outputs = teacher(inputs)\n",
        "        _, preds = torch.max(outputs, 1)\n",
        "        loss = F.cross_entropy(outputs, labels)\n",
        "\n",
        "        loss.backward()\n",
        "        teacher_optimizer.step()\n",
        "\n",
        "        running_loss += loss.item() * inputs.size(0)\n",
        "        running_corrects += torch.sum(preds == labels.data)\n",
        "\n",
        "    t_lr_scheduler.step()\n",
        "\n",
        "    epoch_loss = running_loss / dataset_sizes[\"train\"]\n",
        "    epoch_acc = running_corrects.double() / dataset_sizes[\"train\"]\n",
        "\n",
        "    clear_output()\n",
        "    print(\"Epoch {}/{}\".format(epoch, NUM_EPOCHS - 1))\n",
        "    print(\"Teacher loss: {:.4f} Teacher acc: {:.4f}\".format(epoch_loss, epoch_acc))"
      ],
      "execution_count": null,
      "outputs": [
        {
          "output_type": "stream",
          "text": [
            "Epoch 0/4\n",
            "Teacher loss: 1.2534 Teacher acc: 0.5982\n"
          ],
          "name": "stdout"
        },
        {
          "output_type": "display_data",
          "data": {
            "application/vnd.jupyter.widget-view+json": {
              "model_id": "0b8fbc7132ff4c4ca4c4f0afcb8fd64b",
              "version_minor": 0,
              "version_major": 2
            },
            "text/plain": [
              "HBox(children=(FloatProgress(value=0.0, max=2257.0), HTML(value='')))"
            ]
          },
          "metadata": {
            "tags": []
          }
        }
      ]
    },
    {
      "cell_type": "code",
      "metadata": {
        "id": "PrG_f_7BddD9"
      },
      "source": [
        "def val_accuracy(model):\n",
        "    corrects = 0\n",
        "    for inputs, labels in tqdm_notebook(dataloaders[\"val\"]):\n",
        "        inputs = inputs.to(device)\n",
        "        labels = labels.to(device)\n",
        "\n",
        "        outputs = model(inputs)\n",
        "        _, preds = torch.max(outputs, 1)\n",
        "        corrects += torch.sum(preds == labels.data)\n",
        "\n",
        "    return corrects / dataset_sizes[\"val\"]\n",
        "\n",
        "teacher_accuracy = val_accuracy(teacher)\n",
        "print(f\"Teacher accuracy: {teacher_accuracy}\")"
      ],
      "execution_count": null,
      "outputs": []
    },
    {
      "cell_type": "code",
      "metadata": {
        "id": "SJlX-DSZm5io"
      },
      "source": [
        "def kd_loss(student_logits, teacher_logits, labels, alpha=0.5, T=10):\n",
        "    assert(T > 0)\n",
        "    assert(0 <= alpha <= 1)\n",
        "\n",
        "    basic_loss = F.cross_entropy(student_logits, labels)\n",
        "    kd_loss = F.kl_div(\n",
        "      F.log_softmax(student_logits/T, dim=1),\n",
        "      F.softmax(teacher_logits/T, dim=1)\n",
        "    )\n",
        "    return alpha * basic_loss + (1 - alpha) * kd_loss"
      ],
      "execution_count": null,
      "outputs": []
    },
    {
      "cell_type": "code",
      "metadata": {
        "id": "yB228iJwm7U1"
      },
      "source": [
        "# create student model\n",
        "student = models.resnet18(pretrained=False)\n",
        "student.fc = nn.Linear(student.fc.in_features, 10)\n",
        "student = student.to(device)\n",
        "\n",
        "NUM_EPOCHS = 150\n",
        "\n",
        "student_optimizer = optim.SGD(student.parameters(), lr=0.001, momentum=0.9)\n",
        "s_lr_scheduler = optim.lr_scheduler.StepLR(student_optimizer, step_size=7, gamma=0.1)\n",
        "\n",
        "for epoch in range(NUM_EPOCHS):\n",
        "    running_loss = 0.0\n",
        "    running_corrects = 0\n",
        "\n",
        "    for inputs, labels in tqdm_notebook(dataloaders[\"train\"]):\n",
        "        inputs = inputs.to(device)\n",
        "        labels = labels.to(device)\n",
        "\n",
        "        student_optimizer.zero_grad()\n",
        "\n",
        "        teacher_outputs = teacher(inputs)\n",
        "        student_outputs = student(inputs)\n",
        "\n",
        "        _, preds = torch.max(student_outputs, 1)\n",
        "        loss = kd_loss(student_outputs, teacher_outputs, labels, alpha=0.5)                    \n",
        "\n",
        "        loss.backward()\n",
        "        student_optimizer.step()\n",
        "\n",
        "        running_loss += loss.item() * inputs.size(0)\n",
        "        running_corrects += torch.sum(preds == labels.data)\n",
        "    \n",
        "    s_lr_scheduler.step()\n",
        "\n",
        "    epoch_loss = running_loss / dataset_sizes[\"train\"]\n",
        "    epoch_acc = running_corrects.double() / dataset_sizes[\"train\"]\n",
        "\n",
        "    clear_output()\n",
        "    print(\"Epoch {}/{}\".format(epoch, NUM_EPOCHS - 1))\n",
        "    print(\"Student loss: {:.4f} Student acc: {:.4f}\".format(epoch_loss, epoch_acc))"
      ],
      "execution_count": null,
      "outputs": []
    },
    {
      "cell_type": "markdown",
      "metadata": {
        "id": "Z7JU4Lf0neUY"
      },
      "source": [
        "Сравним количество параметров и качество моделей"
      ]
    },
    {
      "cell_type": "code",
      "metadata": {
        "id": "R0vYaSD1G76Q"
      },
      "source": [
        "student_accuracy = val_accuracy(student)\n",
        "count_params = lambda model: sum(p.numel() for p in model.parameters() if p.requires_grad)\n",
        "\n",
        "print(f\"Teacher: params - {cout_params(teacher}, accuracy - f{teacher_accuracy}\")\n",
        "print(f\"Student: params - {cout_params(student}, accuracy - f{student_accracy}\")"
      ],
      "execution_count": null,
      "outputs": []
    },
    {
      "cell_type": "code",
      "metadata": {
        "id": "driqahWSeS8w"
      },
      "source": [
        ""
      ],
      "execution_count": null,
      "outputs": []
    }
  ]
}